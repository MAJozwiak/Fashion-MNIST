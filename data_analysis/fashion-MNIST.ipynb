{
 "cells": [
  {
   "cell_type": "code",
   "execution_count": 1,
   "id": "2c526855-648b-415b-988a-e2f462ce3e30",
   "metadata": {},
   "source": [
    "import os\n",
    "import numpy as np\n",
    "import matplotlib.pyplot as plt\n",
    "\n",
    "path = r\"C:\\Users\\marta\\OneDrive\\Documents\\dane_siec\"\n",
    "\n",
    "def load_mnist(path, kind, limit):\n",
    "    labels_path = os.path.join(path, f\"{kind}-labels-idx1-ubyte\")\n",
    "    images_path = os.path.join(path, f\"{kind}-images-idx3-ubyte\")\n",
    "\n",
    "    with open(labels_path, 'rb') as lbpath:\n",
    "        header = lbpath.read(8)\n",
    "        labels = np.frombuffer(lbpath.read(limit), dtype=np.uint8)\n",
    "   \n",
    "    with open(images_path, 'rb') as imgpath:\n",
    "        header = imgpath.read(16)\n",
    "        image_data = imgpath.read(limit * 28 * 28)\n",
    "        images = np.frombuffer(image_data, dtype=np.uint8).reshape(limit, 28, 28)\n",
    "        \n",
    "    return images, labels\n",
    "\n",
    "images, labels = load_mnist(path, 'train', 25)\n",
    "\n",
    "for i in range(25):\n",
    "    plt.figure(figsize=(3, 3))\n",
    "    plt.imshow(images[i], cmap='gray')\n",
    "    plt.title(f\"Label: {labels[i]}\")\n",
    "    plt.axis('off')\n",
    "    plt.show()"
   ],
   "outputs": []
  },
  {
   "cell_type": "code",
   "execution_count": 6,
   "id": "4902a889-28bd-4283-b2c9-9b663af7dc5b",
   "metadata": {},
   "source": [
    "for i in images:\n",
    "    unikalne = np.unique(i)\n",
    "    print(unikalne)\n",
    "    print(\"////////////////////////////////////////////////////////////////////////\")"
   ],
   "outputs": []
  },
  {
   "cell_type": "code",
   "execution_count": 9,
   "id": "67e05920-e731-4bbf-a1c3-b29ae48de766",
   "metadata": {},
   "source": [
    "unique_labels=np.unique(labels)\n",
    "print(unique_labels)"
   ],
   "outputs": []
  },
  {
   "cell_type": "code",
   "execution_count": 7,
   "id": "45f2922b-a43c-4789-bd3c-7c917d753b8c",
   "metadata": {},
   "source": [
    "for i in images:\n",
    "    min = np.min(i)\n",
    "    max = np.max(i)\n",
    "    print(f\"Min: {min}\",f\"Max: {max}\")"
   ],
   "outputs": []
  },
  {
   "cell_type": "code",
   "execution_count": 8,
   "id": "6ef37750-0d2e-4b51-bd58-880327bf1a56",
   "metadata": {},
   "source": [
    "num_images = images.shape[0]\n",
    "num_labels = labels.shape[0]\n",
    "if num_images == num_labels:\n",
    "    print(\"The number of images matches the number of labels.\")\n",
    "else:\n",
    "    print(\"The number of images does NOT match the number of labels. Possible data corruption.\")"
   ],
   "outputs": []
  },
  {
   "cell_type": "code",
   "execution_count": null,
   "id": "770d0605-288e-4e7b-b071-f754ad5bfa70",
   "metadata": {},
   "source": [],
   "outputs": []
  }
 ],
 "metadata": {
  "kernelspec": {
   "display_name": "Python 3 (ipykernel)",
   "language": "python",
   "name": "python3"
  },
  "language_info": {
   "codemirror_mode": {
    "name": "ipython",
    "version": 3
   },
   "file_extension": ".py",
   "mimetype": "text/x-python",
   "name": "python",
   "nbconvert_exporter": "python",
   "pygments_lexer": "ipython3",
   "version": "3.11.7"
  }
 },
 "nbformat": 4,
 "nbformat_minor": 5
}
